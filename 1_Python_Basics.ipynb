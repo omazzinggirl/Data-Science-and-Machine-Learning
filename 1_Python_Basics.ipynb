{
  "nbformat": 4,
  "nbformat_minor": 0,
  "metadata": {
    "colab": {
      "name": "1_Python_Basics.ipynb",
      "provenance": [],
      "authorship_tag": "ABX9TyNaXY5dOLQivU3xMR5H3k+0",
      "include_colab_link": true
    },
    "kernelspec": {
      "name": "python3",
      "display_name": "Python 3"
    },
    "language_info": {
      "name": "python"
    }
  },
  "cells": [
    {
      "cell_type": "markdown",
      "metadata": {
        "id": "view-in-github",
        "colab_type": "text"
      },
      "source": [
        "<a href=\"https://colab.research.google.com/github/omazzinggirl/Data-Science-and-Machine-Learning/blob/main/1_Python_Basics.ipynb\" target=\"_parent\"><img src=\"https://colab.research.google.com/assets/colab-badge.svg\" alt=\"Open In Colab\"/></a>"
      ]
    },
    {
      "cell_type": "markdown",
      "source": [
        "# Variables"
      ],
      "metadata": {
        "id": "si2OEipoScu5"
      }
    },
    {
      "cell_type": "code",
      "execution_count": 2,
      "metadata": {
        "colab": {
          "base_uri": "https://localhost:8080/"
        },
        "id": "UwJi-_a7RUux",
        "outputId": "c7f0e190-3665-45e0-84f7-458425edde2b"
      },
      "outputs": [
        {
          "output_type": "stream",
          "name": "stdout",
          "text": [
            "14\n"
          ]
        }
      ],
      "source": [
        "a = 14\n",
        "print(a)"
      ]
    },
    {
      "cell_type": "code",
      "source": [
        "b = \"Hello World\"\n",
        "print(b)"
      ],
      "metadata": {
        "colab": {
          "base_uri": "https://localhost:8080/"
        },
        "id": "-7vWnfwXS2-t",
        "outputId": "aab7cdc5-bd7e-4130-80f9-7c5f5ea51dac"
      },
      "execution_count": 3,
      "outputs": [
        {
          "output_type": "stream",
          "name": "stdout",
          "text": [
            "Hello World\n"
          ]
        }
      ]
    },
    {
      "cell_type": "code",
      "source": [
        "c = 10\n",
        "print(a+c)"
      ],
      "metadata": {
        "colab": {
          "base_uri": "https://localhost:8080/"
        },
        "id": "mcUYA5yOTEKI",
        "outputId": "03cdd9ab-ffd2-4358-e61f-b817e54c8205"
      },
      "execution_count": 4,
      "outputs": [
        {
          "output_type": "stream",
          "name": "stdout",
          "text": [
            "24\n"
          ]
        }
      ]
    },
    {
      "cell_type": "code",
      "source": [
        "# type of  variable\n",
        "type(a)"
      ],
      "metadata": {
        "colab": {
          "base_uri": "https://localhost:8080/"
        },
        "id": "mEoqsovVTM3W",
        "outputId": "3331a90e-a14d-49f9-d679-5684c47d8fa6"
      },
      "execution_count": 5,
      "outputs": [
        {
          "output_type": "execute_result",
          "data": {
            "text/plain": [
              "int"
            ]
          },
          "metadata": {},
          "execution_count": 5
        }
      ]
    },
    {
      "cell_type": "code",
      "source": [
        "print(type(b))"
      ],
      "metadata": {
        "colab": {
          "base_uri": "https://localhost:8080/"
        },
        "id": "e0UNhvrxTXQL",
        "outputId": "849bc051-76df-4c07-fda5-7b4ca5740aa8"
      },
      "execution_count": 6,
      "outputs": [
        {
          "output_type": "stream",
          "name": "stdout",
          "text": [
            "<class 'str'>\n"
          ]
        }
      ]
    },
    {
      "cell_type": "markdown",
      "source": [
        "#List/Arrays"
      ],
      "metadata": {
        "id": "yPzEToJrTtsQ"
      }
    },
    {
      "cell_type": "code",
      "source": [
        "# Homogeneous\n",
        "a = [1,2,3]\n",
        "print(a)"
      ],
      "metadata": {
        "colab": {
          "base_uri": "https://localhost:8080/"
        },
        "id": "Y2dKrbVIT0Eh",
        "outputId": "c595e465-d4d1-4364-f039-ffaec6ea6350"
      },
      "execution_count": 7,
      "outputs": [
        {
          "output_type": "stream",
          "name": "stdout",
          "text": [
            "[1, 2, 3]\n"
          ]
        }
      ]
    },
    {
      "cell_type": "code",
      "source": [
        "# Non-Homogeneoous\n",
        "b = [\"Text\", 4, 2.5]\n",
        "print(b)"
      ],
      "metadata": {
        "colab": {
          "base_uri": "https://localhost:8080/"
        },
        "id": "RHUHcyc3T-4f",
        "outputId": "11928302-4b0a-4000-f494-dff5700031c2"
      },
      "execution_count": 8,
      "outputs": [
        {
          "output_type": "stream",
          "name": "stdout",
          "text": [
            "['Text', 4, 2.5]\n"
          ]
        }
      ]
    },
    {
      "cell_type": "code",
      "source": [
        "print(a[2])"
      ],
      "metadata": {
        "colab": {
          "base_uri": "https://localhost:8080/"
        },
        "id": "YcTY1bwbUL-P",
        "outputId": "b9dbf142-9530-4150-c072-b8935d02f174"
      },
      "execution_count": 9,
      "outputs": [
        {
          "output_type": "stream",
          "name": "stdout",
          "text": [
            "3\n"
          ]
        }
      ]
    },
    {
      "cell_type": "code",
      "source": [
        "a.append(4)\n",
        "a"
      ],
      "metadata": {
        "colab": {
          "base_uri": "https://localhost:8080/"
        },
        "id": "wywV2_j-UR_N",
        "outputId": "1437cbbf-724f-455b-ce00-95c1eff6d083"
      },
      "execution_count": 10,
      "outputs": [
        {
          "output_type": "execute_result",
          "data": {
            "text/plain": [
              "[1, 2, 3, 4]"
            ]
          },
          "metadata": {},
          "execution_count": 10
        }
      ]
    },
    {
      "cell_type": "code",
      "source": [
        "a[1] = 5\n",
        "a"
      ],
      "metadata": {
        "colab": {
          "base_uri": "https://localhost:8080/"
        },
        "id": "e6IAQSbcUnNZ",
        "outputId": "a3016077-e9e6-4541-eb02-71483501fd2f"
      },
      "execution_count": 11,
      "outputs": [
        {
          "output_type": "execute_result",
          "data": {
            "text/plain": [
              "[1, 5, 3, 4]"
            ]
          },
          "metadata": {},
          "execution_count": 11
        }
      ]
    },
    {
      "cell_type": "code",
      "source": [
        "len(b)"
      ],
      "metadata": {
        "colab": {
          "base_uri": "https://localhost:8080/"
        },
        "id": "H-vDDKIFUb3r",
        "outputId": "02d2290e-397b-43ca-fce8-f9b1913ddf4e"
      },
      "execution_count": 12,
      "outputs": [
        {
          "output_type": "execute_result",
          "data": {
            "text/plain": [
              "3"
            ]
          },
          "metadata": {},
          "execution_count": 12
        }
      ]
    },
    {
      "cell_type": "code",
      "source": [
        "# Slicing\n",
        "print('All elements: ', a[:])"
      ],
      "metadata": {
        "colab": {
          "base_uri": "https://localhost:8080/"
        },
        "id": "sl_jL6RoUgj0",
        "outputId": "b814750d-a06e-4daa-a072-5ad82e73c092"
      },
      "execution_count": 13,
      "outputs": [
        {
          "output_type": "stream",
          "name": "stdout",
          "text": [
            "All elements:  [1, 5, 3, 4]\n"
          ]
        }
      ]
    },
    {
      "cell_type": "code",
      "source": [
        "print('All elements from 3rd position onwards: ', a[2:])"
      ],
      "metadata": {
        "colab": {
          "base_uri": "https://localhost:8080/"
        },
        "id": "Njh63plKU31j",
        "outputId": "e883dade-3824-4c75-e8a7-62a19d53f542"
      },
      "execution_count": 14,
      "outputs": [
        {
          "output_type": "stream",
          "name": "stdout",
          "text": [
            "All elements from 3rd position onwards:  [3, 4]\n"
          ]
        }
      ]
    },
    {
      "cell_type": "code",
      "source": [
        "print('All elements between 2nd and 4th position: ', a[1:4])"
      ],
      "metadata": {
        "colab": {
          "base_uri": "https://localhost:8080/"
        },
        "id": "-lm5j1PkVAQd",
        "outputId": "89b12af3-bf60-404e-a7ff-300f8e265b89"
      },
      "execution_count": 15,
      "outputs": [
        {
          "output_type": "stream",
          "name": "stdout",
          "text": [
            "All elements between 2nd and 4th position:  [5, 3, 4]\n"
          ]
        }
      ]
    },
    {
      "cell_type": "code",
      "source": [
        "print('All elements before last position', a[:-1])"
      ],
      "metadata": {
        "colab": {
          "base_uri": "https://localhost:8080/"
        },
        "id": "AvofkwfqVRNm",
        "outputId": "2f72572c-dabe-4514-d080-dcbcab43a668"
      },
      "execution_count": 16,
      "outputs": [
        {
          "output_type": "stream",
          "name": "stdout",
          "text": [
            "All elements before last position [1, 5, 3]\n"
          ]
        }
      ]
    },
    {
      "cell_type": "markdown",
      "source": [
        "#Dictionaries"
      ],
      "metadata": {
        "id": "ESxu13GsVaX8"
      }
    },
    {
      "cell_type": "code",
      "source": [
        "country_info = {'name':'Japan','capital':'Tokyo'}\n",
        "\n",
        "print(country_info)\n",
        "print(country_info['name'])\n",
        "print(country_info['capital'])"
      ],
      "metadata": {
        "colab": {
          "base_uri": "https://localhost:8080/"
        },
        "id": "16e_IfMbVdJ4",
        "outputId": "5538282a-2ff6-46ef-abb9-3b67ca037908"
      },
      "execution_count": 17,
      "outputs": [
        {
          "output_type": "stream",
          "name": "stdout",
          "text": [
            "{'name': 'Japan', 'capital': 'Tokyo'}\n",
            "Japan\n",
            "Tokyo\n"
          ]
        }
      ]
    },
    {
      "cell_type": "code",
      "source": [
        "country_info['population'] = '126.8M'\n",
        "print(country_info)"
      ],
      "metadata": {
        "colab": {
          "base_uri": "https://localhost:8080/"
        },
        "id": "Dm1wme_-V0dj",
        "outputId": "5c7b8728-16f3-4df3-905c-8162cf52632d"
      },
      "execution_count": 18,
      "outputs": [
        {
          "output_type": "stream",
          "name": "stdout",
          "text": [
            "{'name': 'Japan', 'capital': 'Tokyo', 'population': '126.8M'}\n"
          ]
        }
      ]
    },
    {
      "cell_type": "code",
      "source": [
        "country_info['population'] = '100M'\n",
        "print(country_info)"
      ],
      "metadata": {
        "colab": {
          "base_uri": "https://localhost:8080/"
        },
        "id": "re8zU718WLFc",
        "outputId": "6c0defcd-7933-48d8-8503-964eb3a679ec"
      },
      "execution_count": 19,
      "outputs": [
        {
          "output_type": "stream",
          "name": "stdout",
          "text": [
            "{'name': 'Japan', 'capital': 'Tokyo', 'population': '100M'}\n"
          ]
        }
      ]
    },
    {
      "cell_type": "code",
      "source": [
        "from pprint import pprint\n",
        "country_info['regions'] = ['Hokkaido', 'Tohuku', 'Kanto', 'Chubu', 'Kinki']\n",
        "pprint(country_info)"
      ],
      "metadata": {
        "colab": {
          "base_uri": "https://localhost:8080/"
        },
        "id": "clVz_E70WVMe",
        "outputId": "d2dbc2c0-5c81-4303-b5b6-ec1101ae181d"
      },
      "execution_count": 23,
      "outputs": [
        {
          "output_type": "stream",
          "name": "stdout",
          "text": [
            "{'capital': 'Tokyo',\n",
            " 'health': {'birth_rate': 1.44, 'life_expectancy': 84.1},\n",
            " 'name': 'Japan',\n",
            " 'population': '100M',\n",
            " 'regions': ['Hokkaido', 'Tohuku', 'Kanto', 'Chubu', 'Kinki']}\n"
          ]
        }
      ]
    },
    {
      "cell_type": "code",
      "source": [
        "country_info['health'] = {'life_expectancy': 84.1, 'birth_rate': 1.44}\n",
        "pprint(country_info)"
      ],
      "metadata": {
        "colab": {
          "base_uri": "https://localhost:8080/"
        },
        "id": "HE392SAhwfLA",
        "outputId": "9c962a59-5ca6-4a32-a93e-584469084939"
      },
      "execution_count": 24,
      "outputs": [
        {
          "output_type": "stream",
          "name": "stdout",
          "text": [
            "{'capital': 'Tokyo',\n",
            " 'health': {'birth_rate': 1.44, 'life_expectancy': 84.1},\n",
            " 'name': 'Japan',\n",
            " 'population': '100M',\n",
            " 'regions': ['Hokkaido', 'Tohuku', 'Kanto', 'Chubu', 'Kinki']}\n"
          ]
        }
      ]
    },
    {
      "cell_type": "code",
      "source": [
        "country_info['health']['birth_rate']"
      ],
      "metadata": {
        "id": "pyBA55sbXEFU",
        "colab": {
          "base_uri": "https://localhost:8080/"
        },
        "outputId": "312ebb50-a3f1-4a41-bd00-9ece94d548d6"
      },
      "execution_count": 25,
      "outputs": [
        {
          "output_type": "execute_result",
          "data": {
            "text/plain": [
              "1.44"
            ]
          },
          "metadata": {},
          "execution_count": 25
        }
      ]
    },
    {
      "cell_type": "code",
      "source": [
        "country_info.keys()"
      ],
      "metadata": {
        "colab": {
          "base_uri": "https://localhost:8080/"
        },
        "id": "rVumzklP0dqo",
        "outputId": "c2c77189-3e66-4e93-afcb-7647c62ac855"
      },
      "execution_count": 26,
      "outputs": [
        {
          "output_type": "execute_result",
          "data": {
            "text/plain": [
              "dict_keys(['name', 'capital', 'population', 'regions', 'health'])"
            ]
          },
          "metadata": {},
          "execution_count": 26
        }
      ]
    },
    {
      "cell_type": "code",
      "source": [
        "country_info.values()"
      ],
      "metadata": {
        "colab": {
          "base_uri": "https://localhost:8080/"
        },
        "id": "mb4_ozsE0i9O",
        "outputId": "c8de313b-6c3c-487b-d471-81a9210d25a1"
      },
      "execution_count": 27,
      "outputs": [
        {
          "output_type": "execute_result",
          "data": {
            "text/plain": [
              "dict_values(['Japan', 'Tokyo', '100M', ['Hokkaido', 'Tohuku', 'Kanto', 'Chubu', 'Kinki'], {'life_expectancy': 84.1, 'birth_rate': 1.44}])"
            ]
          },
          "metadata": {},
          "execution_count": 27
        }
      ]
    },
    {
      "cell_type": "markdown",
      "source": [
        "#Conditional Statements"
      ],
      "metadata": {
        "id": "OurYwtTp0sFI"
      }
    },
    {
      "cell_type": "code",
      "source": [
        "x = 19\n",
        "\n",
        "if x < 10:\n",
        "  print('less than 10')\n",
        "elif x > 10 and x <= 19:\n",
        "  print('greater than 10 but less than 20')\n",
        "else:\n",
        "    print('greater than 19')"
      ],
      "metadata": {
        "colab": {
          "base_uri": "https://localhost:8080/"
        },
        "id": "tm_YSVC70v6Y",
        "outputId": "d01589a3-97c0-4664-d6d7-333f6ffb87a4"
      },
      "execution_count": 30,
      "outputs": [
        {
          "output_type": "stream",
          "name": "stdout",
          "text": [
            "greater than 10 but less than 20\n"
          ]
        }
      ]
    },
    {
      "cell_type": "code",
      "source": [
        "a = True\n",
        "if a:\n",
        "  print('statement was True')"
      ],
      "metadata": {
        "id": "Np7EYvk61Xl0"
      },
      "execution_count": 32,
      "outputs": []
    },
    {
      "cell_type": "markdown",
      "source": [
        "#Loops"
      ],
      "metadata": {
        "id": "QdDf7ugh1lFi"
      }
    },
    {
      "cell_type": "code",
      "source": [
        "list(range(4, 12))"
      ],
      "metadata": {
        "colab": {
          "base_uri": "https://localhost:8080/"
        },
        "id": "rq6amRHC1jgM",
        "outputId": "9e174d48-f673-4019-e1bb-d4976da19f7a"
      },
      "execution_count": 35,
      "outputs": [
        {
          "output_type": "execute_result",
          "data": {
            "text/plain": [
              "[4, 5, 6, 7, 8, 9, 10, 11]"
            ]
          },
          "metadata": {},
          "execution_count": 35
        }
      ]
    },
    {
      "cell_type": "code",
      "source": [
        "list(range(4))"
      ],
      "metadata": {
        "colab": {
          "base_uri": "https://localhost:8080/"
        },
        "id": "vH0vGJlv1zqZ",
        "outputId": "73fccc59-b25e-4b03-a80e-116c0a6c4483"
      },
      "execution_count": 36,
      "outputs": [
        {
          "output_type": "execute_result",
          "data": {
            "text/plain": [
              "[0, 1, 2, 3]"
            ]
          },
          "metadata": {},
          "execution_count": 36
        }
      ]
    },
    {
      "cell_type": "code",
      "source": [
        "for i in range(1, 11):\n",
        "  print(i*i)"
      ],
      "metadata": {
        "colab": {
          "base_uri": "https://localhost:8080/"
        },
        "id": "yHlpYP7Q15kD",
        "outputId": "e64a02fb-a177-4fa5-8fd4-053943542ac9"
      },
      "execution_count": 37,
      "outputs": [
        {
          "output_type": "stream",
          "name": "stdout",
          "text": [
            "1\n",
            "4\n",
            "9\n",
            "16\n",
            "25\n",
            "36\n",
            "49\n",
            "64\n",
            "81\n",
            "100\n"
          ]
        }
      ]
    },
    {
      "cell_type": "code",
      "source": [
        "items = ['a','b','c','d']\n",
        "for item in items:\n",
        "  print(item)"
      ],
      "metadata": {
        "colab": {
          "base_uri": "https://localhost:8080/"
        },
        "id": "WP3sTS9h5q4V",
        "outputId": "14d27c97-8cfc-48db-f020-a2afedb5a05e"
      },
      "execution_count": 38,
      "outputs": [
        {
          "output_type": "stream",
          "name": "stdout",
          "text": [
            "a\n",
            "b\n",
            "c\n",
            "d\n"
          ]
        }
      ]
    },
    {
      "cell_type": "code",
      "source": [
        "x = 0\n",
        "\n",
        "while x < 10:\n",
        "  if  x == 4 or x == 8:\n",
        "    x += 1\n",
        "    continue\n",
        "  print(x)\n",
        "  x += 1"
      ],
      "metadata": {
        "colab": {
          "base_uri": "https://localhost:8080/"
        },
        "id": "wRRLqcmO6D8y",
        "outputId": "4ea7d681-3b28-4d63-dddc-5c2e983c066a"
      },
      "execution_count": 41,
      "outputs": [
        {
          "output_type": "stream",
          "name": "stdout",
          "text": [
            "0\n",
            "1\n",
            "2\n",
            "3\n",
            "5\n",
            "6\n",
            "7\n",
            "9\n"
          ]
        }
      ]
    },
    {
      "cell_type": "markdown",
      "source": [
        "#Functions"
      ],
      "metadata": {
        "id": "yrLeziD764OF"
      }
    },
    {
      "cell_type": "code",
      "source": [
        "def areaCircle(radius):\n",
        "  print('radius --> ', radius)\n",
        "  return 3.14 * (radius ** 2)"
      ],
      "metadata": {
        "id": "ZOW1NdXV66As"
      },
      "execution_count": 45,
      "outputs": []
    },
    {
      "cell_type": "code",
      "source": [
        "print(areaCircle(4))"
      ],
      "metadata": {
        "colab": {
          "base_uri": "https://localhost:8080/"
        },
        "id": "yRHtK_K28kff",
        "outputId": "5a0ac2a3-b5da-4f30-a11b-5cd8e3f83cfe"
      },
      "execution_count": 46,
      "outputs": [
        {
          "output_type": "stream",
          "name": "stdout",
          "text": [
            "radius -->  4\n",
            "50.24\n"
          ]
        }
      ]
    },
    {
      "cell_type": "code",
      "source": [
        "def volumeCylinder(radius, height = 3):\n",
        "  print('radius = ', radius, ' height = ', height)\n",
        "  return 3.14 * (radius ** 2) * height"
      ],
      "metadata": {
        "id": "c_SmVipj870h"
      },
      "execution_count": 53,
      "outputs": []
    },
    {
      "cell_type": "code",
      "source": [
        "volumeCylinder(radius = 5, height = 8)"
      ],
      "metadata": {
        "colab": {
          "base_uri": "https://localhost:8080/"
        },
        "id": "-TWs7QTh9SCJ",
        "outputId": "50f218f6-b7ff-4ffb-bf74-2ad4543b3b79"
      },
      "execution_count": 54,
      "outputs": [
        {
          "output_type": "stream",
          "name": "stdout",
          "text": [
            "radius =  5  height =  8\n"
          ]
        },
        {
          "output_type": "execute_result",
          "data": {
            "text/plain": [
              "628.0"
            ]
          },
          "metadata": {},
          "execution_count": 54
        }
      ]
    },
    {
      "cell_type": "code",
      "source": [
        "volumeCylinder(4, 6)"
      ],
      "metadata": {
        "colab": {
          "base_uri": "https://localhost:8080/"
        },
        "id": "10iLBgRv9e7V",
        "outputId": "770869e0-e850-4267-cad3-12e630a02332"
      },
      "execution_count": 55,
      "outputs": [
        {
          "output_type": "stream",
          "name": "stdout",
          "text": [
            "radius =  4  height =  6\n"
          ]
        },
        {
          "output_type": "execute_result",
          "data": {
            "text/plain": [
              "301.44"
            ]
          },
          "metadata": {},
          "execution_count": 55
        }
      ]
    },
    {
      "cell_type": "code",
      "source": [
        "volumeCylinder(7)"
      ],
      "metadata": {
        "colab": {
          "base_uri": "https://localhost:8080/"
        },
        "id": "bHeUtwO19o1Z",
        "outputId": "edfe186e-2b45-417c-d7d6-ca68cf09456b"
      },
      "execution_count": 56,
      "outputs": [
        {
          "output_type": "stream",
          "name": "stdout",
          "text": [
            "radius =  7  height =  3\n"
          ]
        },
        {
          "output_type": "execute_result",
          "data": {
            "text/plain": [
              "461.58000000000004"
            ]
          },
          "metadata": {},
          "execution_count": 56
        }
      ]
    },
    {
      "cell_type": "markdown",
      "source": [
        "#Classes"
      ],
      "metadata": {
        "id": "tLa-kd25_SU_"
      }
    },
    {
      "cell_type": "code",
      "source": [
        "class Book(object):\n",
        "  \"\"\"Cass object for boooks\"\"\"\n",
        "\n",
        "  def __init__(self, title, author):\n",
        "    \"\"\"initializes a new book\"\"\"\n",
        "    self.title = title\n",
        "    self.author = author\n",
        "\n",
        "  def __str__(self):\n",
        "    return 'My book titled ' + self.title + ' by ' + self.author\n",
        "\n",
        "  def change_book_title(self, new_name):\n",
        "    self.title = new_name"
      ],
      "metadata": {
        "id": "O3A_rFTS_VHb"
      },
      "execution_count": 68,
      "outputs": []
    },
    {
      "cell_type": "code",
      "source": [
        "my_book = Book(title = 'Midnight Summer', author = 'Shakespere')"
      ],
      "metadata": {
        "id": "FTdBObFFCAob"
      },
      "execution_count": 69,
      "outputs": []
    },
    {
      "cell_type": "code",
      "source": [
        "print(my_book)"
      ],
      "metadata": {
        "colab": {
          "base_uri": "https://localhost:8080/"
        },
        "id": "XDnPnjfbCPiX",
        "outputId": "3984b428-f8e7-4945-80a7-1711c0bc6851"
      },
      "execution_count": 70,
      "outputs": [
        {
          "output_type": "stream",
          "name": "stdout",
          "text": [
            "My book titled Midnight Summer by Shakespere\n"
          ]
        }
      ]
    },
    {
      "cell_type": "code",
      "source": [
        "my_book.title"
      ],
      "metadata": {
        "colab": {
          "base_uri": "https://localhost:8080/",
          "height": 35
        },
        "id": "1OB6YwvGCY6l",
        "outputId": "7e3db256-a06c-4f57-f665-b7e2b54fb466"
      },
      "execution_count": 71,
      "outputs": [
        {
          "output_type": "execute_result",
          "data": {
            "application/vnd.google.colaboratory.intrinsic+json": {
              "type": "string"
            },
            "text/plain": [
              "'Midnight Summer'"
            ]
          },
          "metadata": {},
          "execution_count": 71
        }
      ]
    },
    {
      "cell_type": "code",
      "source": [
        "my_book.change_book_title(new_name = 'Kite Flying high')"
      ],
      "metadata": {
        "id": "irgst_-DDPL4"
      },
      "execution_count": 72,
      "outputs": []
    },
    {
      "cell_type": "code",
      "source": [
        "my_book"
      ],
      "metadata": {
        "colab": {
          "base_uri": "https://localhost:8080/"
        },
        "id": "CtauSRIRDXLT",
        "outputId": "c8546a8e-5920-48f6-d5da-ad82792c5463"
      },
      "execution_count": 73,
      "outputs": [
        {
          "output_type": "execute_result",
          "data": {
            "text/plain": [
              "<__main__.Book at 0x7f2b45402590>"
            ]
          },
          "metadata": {},
          "execution_count": 73
        }
      ]
    },
    {
      "cell_type": "code",
      "source": [
        "print(my_book)"
      ],
      "metadata": {
        "colab": {
          "base_uri": "https://localhost:8080/"
        },
        "id": "_T5lSm_GDaj2",
        "outputId": "dca23958-1ab8-4aa3-96d1-fd1ed3c7730c"
      },
      "execution_count": 74,
      "outputs": [
        {
          "output_type": "stream",
          "name": "stdout",
          "text": [
            "My book titled Kite Flying high by Shakespere\n"
          ]
        }
      ]
    }
  ]
}