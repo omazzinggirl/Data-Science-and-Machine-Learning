{
 "cells": [
  {
   "cell_type": "code",
   "execution_count": 2,
   "metadata": {},
   "outputs": [],
   "source": [
    "import numpy as np\n",
    "import pandas as pd\n",
    "import matplotlib.pyplot as plt"
   ]
  },
  {
   "cell_type": "code",
   "execution_count": 3,
   "metadata": {},
   "outputs": [],
   "source": [
    "np.random.seed(0)"
   ]
  },
  {
   "cell_type": "code",
   "execution_count": 4,
   "metadata": {},
   "outputs": [
    {
     "data": {
      "image/png": "[encoded data removed]",
      "text/plain": [
       "<Figure size 432x288 with 1 Axes>"
      ]
     },
     "metadata": {
      "needs_background": "light"
     },
     "output_type": "display_data"
    }
   ],
   "source": [
    "x = 10*np.random.rand(50)\n",
    "y = 2 * x - 1 + np.random.randn(50)\n",
    "plt.scatter(x, y);"
   ]
  },
  {
   "cell_type": "code",
   "execution_count": 5,
   "metadata": {},
   "outputs": [
    {
     "name": "stdout",
     "output_type": "stream",
     "text": [
      "[5.48813504 7.15189366 6.02763376 5.44883183 4.23654799 6.45894113\n",
      " 4.37587211 8.91773001 9.63662761 3.83441519 7.91725038 5.2889492\n",
      " 5.68044561 9.25596638 0.71036058 0.871293   0.20218397 8.32619846\n",
      " 7.78156751 8.70012148 9.78618342 7.99158564 4.61479362 7.80529176\n",
      " 1.18274426 6.39921021 1.43353287 9.44668917 5.21848322 4.1466194\n",
      " 2.64555612 7.74233689 4.56150332 5.68433949 0.187898   6.17635497\n",
      " 6.12095723 6.16933997 9.43748079 6.81820299 3.59507901 4.37031954\n",
      " 6.97631196 0.60225472 6.66766715 6.7063787  2.10382561 1.28926298\n",
      " 3.15428351 3.63710771] \n",
      "\n",
      "\n",
      "(50,)\n"
     ]
    }
   ],
   "source": [
    "print(x,'\\n\\n')\n",
    "print(x.shape)"
   ]
  },
  {
   "cell_type": "code",
   "execution_count": 6,
   "metadata": {},
   "outputs": [
    {
     "name": "stdout",
     "output_type": "stream",
     "text": [
      "[ 8.26999989 15.25456272 10.54561534  9.45958936  6.22030063 12.69537262\n",
      "  6.13784638 16.62271974 17.37778865  7.05573287 14.32369562  8.39726621\n",
      " 10.33270899 17.94026464  0.48723839  1.04505789 -1.22995414 15.28965574\n",
      " 13.89067457 16.0406898  17.75922056 13.25688868  8.40701339 14.20880259\n",
      " -0.26470983 12.26120268  0.95976738 17.94532374 10.166057    7.42222171\n",
      "  5.43051293 13.24984797  8.52534829  9.68386889 -1.49500114 10.77386028\n",
      " 10.93036192 11.39484528 16.70981173 13.53723247  6.65582045  6.20439539\n",
      " 14.44087611  2.10039861 13.51411388 12.23283256  2.1368986   2.63297768\n",
      "  4.90539007  7.49666049] \n",
      "\n",
      "\n",
      "(50,)\n"
     ]
    }
   ],
   "source": [
    "print(y,'\\n\\n')\n",
    "print(y.shape)"
   ]
  },
  {
   "cell_type": "markdown",
   "metadata": {},
   "source": [
    "## Choose a class of model"
   ]
  },
  {
   "cell_type": "code",
   "execution_count": 7,
   "metadata": {},
   "outputs": [],
   "source": [
    "from sklearn.linear_model import LinearRegression"
   ]
  },
  {
   "cell_type": "markdown",
   "metadata": {},
   "source": [
    "## Choose model hyperparameters"
   ]
  },
  {
   "cell_type": "markdown",
   "metadata": {},
   "source": [
    "A class of model is not the same as an instance of a model."
   ]
  },
  {
   "cell_type": "markdown",
   "metadata": {},
   "source": [
    "Ask yourself:\n",
    "    \n",
    "Would we like to fit for the offset (i.e., y-intercept)?\n",
    "Would we like the model to be normalized?\n",
    "Would we like to preprocess our features to add model flexibility?\n",
    "What degree of regularization would we like to use in our model?\n",
    "How many model components would we like to use?"
   ]
  },
  {
   "cell_type": "code",
   "execution_count": 8,
   "metadata": {},
   "outputs": [
    {
     "data": {
      "text/plain": [
       "LinearRegression()"
      ]
     },
     "execution_count": 8,
     "metadata": {},
     "output_type": "execute_result"
    }
   ],
   "source": [
    "model = LinearRegression(fit_intercept = True)\n",
    "model"
   ]
  },
  {
   "cell_type": "markdown",
   "metadata": {},
   "source": [
    "When the model is instantiated, the only action is the storing of these hyperparameter values.\n",
    "\n",
    "clear the distinction between choice of model and application of model to data."
   ]
  },
  {
   "cell_type": "markdown",
   "metadata": {},
   "source": [
    "## Arrange data into a features matrix and target vector"
   ]
  },
  {
   "cell_type": "code",
   "execution_count": 9,
   "metadata": {},
   "outputs": [
    {
     "data": {
      "text/plain": [
       "(50, 1)"
      ]
     },
     "execution_count": 9,
     "metadata": {},
     "output_type": "execute_result"
    }
   ],
   "source": [
    "X = x[:, np.newaxis]\n",
    "X.shape"
   ]
  },
  {
   "cell_type": "code",
   "execution_count": 13,
   "metadata": {},
   "outputs": [
    {
     "data": {
      "text/plain": [
       "1"
      ]
     },
     "execution_count": 13,
     "metadata": {},
     "output_type": "execute_result"
    }
   ],
   "source": [
    "Y = y[np.newaxis, :].ravel()\n",
    "Y.ndim"
   ]
  },
  {
   "cell_type": "markdown",
   "metadata": {},
   "source": [
    "## Fit the model to your data"
   ]
  },
  {
   "cell_type": "code",
   "execution_count": 14,
   "metadata": {},
   "outputs": [
    {
     "data": {
      "text/plain": [
       "LinearRegression()"
      ]
     },
     "execution_count": 14,
     "metadata": {},
     "output_type": "execute_result"
    }
   ],
   "source": [
    "model.fit(X,y)"
   ]
  },
  {
   "cell_type": "code",
   "execution_count": 15,
   "metadata": {},
   "outputs": [
    {
     "data": {
      "text/plain": [
       "array([1.96927329])"
      ]
     },
     "execution_count": 15,
     "metadata": {},
     "output_type": "execute_result"
    }
   ],
   "source": [
    "model.coef_"
   ]
  },
  {
   "cell_type": "code",
   "execution_count": 16,
   "metadata": {},
   "outputs": [
    {
     "data": {
      "text/plain": [
       "-1.0072100841302785"
      ]
     },
     "execution_count": 16,
     "metadata": {},
     "output_type": "execute_result"
    }
   ],
   "source": [
    "model.intercept_"
   ]
  },
  {
   "cell_type": "markdown",
   "metadata": {},
   "source": [
    "## Predict labels for unknown data"
   ]
  },
  {
   "cell_type": "code",
   "execution_count": 17,
   "metadata": {},
   "outputs": [
    {
     "data": {
      "text/plain": [
       "array([-1.        , -0.75510204, -0.51020408, -0.26530612, -0.02040816,\n",
       "        0.2244898 ,  0.46938776,  0.71428571,  0.95918367,  1.20408163,\n",
       "        1.44897959,  1.69387755,  1.93877551,  2.18367347,  2.42857143,\n",
       "        2.67346939,  2.91836735,  3.16326531,  3.40816327,  3.65306122,\n",
       "        3.89795918,  4.14285714,  4.3877551 ,  4.63265306,  4.87755102,\n",
       "        5.12244898,  5.36734694,  5.6122449 ,  5.85714286,  6.10204082,\n",
       "        6.34693878,  6.59183673,  6.83673469,  7.08163265,  7.32653061,\n",
       "        7.57142857,  7.81632653,  8.06122449,  8.30612245,  8.55102041,\n",
       "        8.79591837,  9.04081633,  9.28571429,  9.53061224,  9.7755102 ,\n",
       "       10.02040816, 10.26530612, 10.51020408, 10.75510204, 11.        ])"
      ]
     },
     "execution_count": 17,
     "metadata": {},
     "output_type": "execute_result"
    }
   ],
   "source": [
    "xfit = np.linspace(-1, 11)\n",
    "xfit"
   ]
  },
  {
   "cell_type": "code",
   "execution_count": 18,
   "metadata": {},
   "outputs": [],
   "source": [
    "Xfit = xfit[:, np.newaxis]\n",
    "yfit = model.predict(Xfit)"
   ]
  },
  {
   "cell_type": "code",
   "execution_count": 19,
   "metadata": {},
   "outputs": [
    {
     "data": {
      "text/plain": [
       "<matplotlib.collections.PathCollection at 0x1981baabe88>"
      ]
     },
     "execution_count": 19,
     "metadata": {},
     "output_type": "execute_result"
    },
    {
     "data": {
      "image/png": "[encoded data removed]",
      "text/plain": [
       "<Figure size 432x288 with 1 Axes>"
      ]
     },
     "metadata": {
      "needs_background": "light"
     },
     "output_type": "display_data"
    }
   ],
   "source": [
    "plt.plot(xfit, yfit)\n",
    "plt.scatter(x,y)"
   ]
  }
 ],
 "metadata": {
  "kernelspec": {
   "display_name": "Python 3",
   "language": "python",
   "name": "python3"
  },
  "language_info": {
   "codemirror_mode": {
    "name": "ipython",
    "version": 3
   },
   "file_extension": ".py",
   "mimetype": "text/x-python",
   "name": "python",
   "nbconvert_exporter": "python",
   "pygments_lexer": "ipython3",
   "version": "3.7.6"
  }
 },
 "nbformat": 4,
 "nbformat_minor": 4
}
